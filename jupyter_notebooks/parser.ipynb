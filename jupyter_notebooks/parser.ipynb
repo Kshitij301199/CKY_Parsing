{
 "cells": [
  {
   "cell_type": "code",
   "execution_count": 3,
   "metadata": {},
   "outputs": [],
   "source": [
    "import nltk\n",
    "import random"
   ]
  },
  {
   "cell_type": "code",
   "execution_count": 2,
   "metadata": {},
   "outputs": [
    {
     "name": "stderr",
     "output_type": "stream",
     "text": [
      "[nltk_data] Downloading package large_grammars to\n",
      "[nltk_data]     C:\\Users\\kshit\\AppData\\Roaming\\nltk_data...\n",
      "[nltk_data]   Package large_grammars is already up-to-date!\n"
     ]
    }
   ],
   "source": [
    "grammar = nltk.data.load(\"../data/atis-grammar-cnf.cfg\")\n",
    "#run once\n",
    "nltk.download(\"large_grammars\")\n",
    "sentences = nltk.data.load(\"grammars/large_grammars/atis_sentences.txt\", \"auto\")\n",
    "# print(sentences)\n",
    "test_sentences = nltk.parse.util.extract_test_sentences(sentences)\n",
    "# print(test_sentences)"
   ]
  },
  {
   "cell_type": "code",
   "execution_count": 4,
   "metadata": {},
   "outputs": [
    {
     "name": "stdout",
     "output_type": "stream",
     "text": [
      "10\n",
      "18\n"
     ]
    }
   ],
   "source": [
    "no_parse = [test_sentences[index][0] for index in range(len(test_sentences)) if test_sentences[index][1] == 0 and len(test_sentences[index][0]) <= 9]\n",
    "print(len(no_parse))\n",
    "yes_parse = [test_sentences[index][0] for index in range(len(test_sentences)) if test_sentences[index][1] != 0 and len(test_sentences[index][0]) <= 7]\n",
    "print(len(yes_parse))"
   ]
  },
  {
   "cell_type": "code",
   "execution_count": 5,
   "metadata": {},
   "outputs": [
    {
     "name": "stdout",
     "output_type": "stream",
     "text": [
      "['show', 'the', 'flights', '.']\n",
      "['what', 'is', 'the', 'flying', 'time', 'from', '.']\n"
     ]
    }
   ],
   "source": [
    "random.seed(42)\n",
    "grammatical = random.sample(yes_parse,10)\n",
    "ungrammatical = random.sample(no_parse,10)\n",
    "print(grammatical[0])\n",
    "print(ungrammatical[0])"
   ]
  },
  {
   "cell_type": "code",
   "execution_count": 6,
   "metadata": {},
   "outputs": [
    {
     "data": {
      "text/plain": [
       "'show the flights .'"
      ]
     },
     "execution_count": 6,
     "metadata": {},
     "output_type": "execute_result"
    }
   ],
   "source": [
    "sentence = grammatical[0]\n",
    "\" \".join(sentence)"
   ]
  },
  {
   "cell_type": "code",
   "execution_count": 153,
   "metadata": {},
   "outputs": [
    {
     "name": "stdout",
     "output_type": "stream",
     "text": [
      "Sentence Length : 4\n",
      "Number of rows :  4\n",
      "Number of columns :  5\n"
     ]
    }
   ],
   "source": [
    "sentence_length = len(sentence)\n",
    "print(\"Sentence Length :\",sentence_length)\n",
    "cky_matrix = [[\"\" for x in range(sentence_length+1)] for x in range(sentence_length)]\n",
    "\n",
    "print(\"Number of rows : \",len(cky_matrix))\n",
    "print(\"Number of columns : \",len(cky_matrix[:][0]))\n",
    "\n",
    "assert cky_matrix[0][sentence_length] == ''"
   ]
  },
  {
   "cell_type": "code",
   "execution_count": 154,
   "metadata": {},
   "outputs": [],
   "source": [
    "for index, word in enumerate(sentence):\n",
    "    cky_matrix[index][index] = word\n",
    "    word_rules = grammar.productions(rhs = word)\n",
    "    cky_matrix[index][index+1] = [(index,index,index+1,rule.lhs(),index,index) for rule in word_rules]"
   ]
  },
  {
   "cell_type": "code",
   "execution_count": 156,
   "metadata": {},
   "outputs": [],
   "source": [
    "# cky_matrix\n",
    "all_rules = grammar.productions()\n",
    "\n",
    "for b in range(2,sentence_length+2):\n",
    "    for i in range(1,sentence_length-b+1):\n",
    "        cky_matrix[i][i+b] = []\n",
    "        for k in range(1,b):\n",
    "            # print(b,i,k)\n",
    "            B = cky_matrix[i][i+k]\n",
    "            C = cky_matrix[i+k][i+b]\n",
    "            # print(B)\n",
    "            # print(C)\n",
    "            # all_lhs = []\n",
    "            \n",
    "            for indx, x in enumerate(B):\n",
    "                for indy, y in enumerate(C):\n",
    "                    # print(x,y)\n",
    "                    lefts = [(i,i+k,i+b,rules.lhs(),indx,indy) for rules in all_rules if rules.rhs() == (x[3],y[3])]\n",
    "                    lefts = list(set(lefts))\n",
    "                    # print(lefts)\n",
    "                    # print(lefts)\n",
    "                    for left in lefts:\n",
    "                        if left not in cky_matrix[i][i+b]:\n",
    "                            cky_matrix[i][i+b].append(left)\n",
    "                            \n",
    "for b in range(2,sentence_length+1):\n",
    "    i = 0\n",
    "    cky_matrix[i][i+b] = []\n",
    "    for k in range(1,b):\n",
    "        # print(b,i,k)\n",
    "        B = cky_matrix[i][i+k]\n",
    "        C = cky_matrix[i+k][i+b]\n",
    "        # print(B)\n",
    "        # print(C)\n",
    "        # all_lhs = []\n",
    "        \n",
    "        for indx, x in enumerate(B):\n",
    "            for indy, y in enumerate(C):\n",
    "                # print(x,y)\n",
    "                lefts = [(i,i+k,i+b,rules.lhs(),indx,indy) for rules in all_rules if rules.rhs() == (x[3],y[3])]\n",
    "                lefts = list(set(lefts))\n",
    "                # print(lefts)\n",
    "                # print(lefts)\n",
    "                for left in lefts:\n",
    "                    if left not in cky_matrix[i][i+b]:\n",
    "                        cky_matrix[i][i+b].append(left)\n",
    "                        \n",
    "# if nltk.grammar.Nonterminal(\"SIGMA\") in cky_matrix[0][sentence_length]:\n",
    "    # print(f\"True, there is the Start symbol in index {0},{sentence_length}\")\n",
    "    # return True\n",
    "# else:\n",
    "    # print(f\"False, there is no Start symbol in index {0},{sentence_length}\")\n",
    "    # return False"
   ]
  },
  {
   "cell_type": "code",
   "execution_count": 157,
   "metadata": {},
   "outputs": [
    {
     "data": {
      "text/plain": [
       "[['show',\n",
       "  [(0, 0, 1, VP_VB, 0, 0),\n",
       "   (0, 0, 1, NOUN_NN, 0, 0),\n",
       "   (0, 0, 1, INFCL_VB, 0, 0),\n",
       "   (0, 0, 1, NP_NN, 0, 0),\n",
       "   (0, 0, 1, SIGMA, 0, 0),\n",
       "   (0, 0, 1, AVPNP_NN, 0, 0),\n",
       "   (0, 0, 1, show, 0, 0),\n",
       "   (0, 0, 1, VERB_VB, 0, 0)],\n",
       "  [(0, 1, 2, JVQ, 1, 2),\n",
       "   (0, 1, 2, JWU, 1, 2),\n",
       "   (0, 1, 2, KIJ, 1, 2),\n",
       "   (0, 1, 2, FZT, 3, 2),\n",
       "   (0, 1, 2, GZJ, 3, 2),\n",
       "   (0, 1, 2, GZR, 3, 2),\n",
       "   (0, 1, 2, FSV, 3, 2),\n",
       "   (0, 1, 2, VP_VB, 7, 2),\n",
       "   (0, 1, 2, JKU, 7, 2),\n",
       "   (0, 1, 2, IZF, 7, 2)],\n",
       "  [(0, 1, 3, JLB, 7, 0),\n",
       "   (0, 1, 3, KQH, 7, 0),\n",
       "   (0, 1, 3, VP_VB, 7, 0),\n",
       "   (0, 1, 3, KSI, 7, 0),\n",
       "   (0, 1, 3, JHQ, 7, 0),\n",
       "   (0, 1, 3, JAX, 7, 0),\n",
       "   (0, 1, 3, FVD, 7, 0),\n",
       "   (0, 1, 3, KGI, 7, 0),\n",
       "   (0, 1, 3, JLB, 7, 10),\n",
       "   (0, 1, 3, KQH, 7, 10),\n",
       "   (0, 1, 3, VP_VB, 7, 10),\n",
       "   (0, 1, 3, JAX, 7, 10),\n",
       "   (0, 1, 3, KSI, 7, 10),\n",
       "   (0, 1, 3, JHQ, 7, 10),\n",
       "   (0, 1, 3, FVD, 7, 10),\n",
       "   (0, 1, 3, KGI, 7, 10)],\n",
       "  [(0, 1, 4, VP_VB, 7, 1),\n",
       "   (0, 1, 4, JLB, 7, 1),\n",
       "   (0, 1, 4, KSI, 7, 1),\n",
       "   (0, 1, 4, KQH, 7, 1),\n",
       "   (0, 1, 4, KGI, 7, 1),\n",
       "   (0, 1, 4, FVD, 7, 1),\n",
       "   (0, 1, 4, JHQ, 7, 1),\n",
       "   (0, 1, 4, JAX, 7, 1),\n",
       "   (0, 1, 4, FVD, 7, 9),\n",
       "   (0, 1, 4, KGI, 7, 9),\n",
       "   (0, 1, 4, JAX, 7, 9),\n",
       "   (0, 1, 4, JLB, 7, 9),\n",
       "   (0, 1, 4, JHQ, 7, 9),\n",
       "   (0, 1, 4, VP_VB, 7, 9),\n",
       "   (0, 1, 4, KSI, 7, 9),\n",
       "   (0, 1, 4, KQH, 7, 9),\n",
       "   (0, 1, 4, DLV, 7, 20),\n",
       "   (0, 1, 4, BFY, 7, 21),\n",
       "   (0, 1, 4, BIC, 7, 31),\n",
       "   (0, 1, 4, GNM, 7, 37),\n",
       "   (0, 1, 4, BHA, 7, 40),\n",
       "   (0, 1, 4, RX, 7, 50),\n",
       "   (0, 1, 4, DRA, 7, 54),\n",
       "   (0, 1, 4, DOD, 7, 55),\n",
       "   (0, 1, 4, GOA, 7, 56),\n",
       "   (0, 1, 4, DPQ, 7, 59),\n",
       "   (0, 1, 4, DPE, 7, 62),\n",
       "   (0, 1, 4, DOM, 7, 63),\n",
       "   (0, 1, 4, GUI, 7, 67),\n",
       "   (0, 1, 4, RD, 7, 71),\n",
       "   (0, 1, 4, GLG, 7, 72),\n",
       "   (0, 1, 4, GLY, 7, 77),\n",
       "   (0, 1, 4, SIGMA, 7, 78),\n",
       "   (0, 1, 4, IMPR_VB, 7, 78),\n",
       "   (0, 1, 4, AYC, 7, 79),\n",
       "   (0, 1, 4, DOD, 7, 82),\n",
       "   (0, 1, 4, GOA, 7, 85),\n",
       "   (0, 1, 4, DPQ, 7, 91),\n",
       "   (0, 1, 4, GUI, 7, 94),\n",
       "   (0, 1, 4, SIGMA, 7, 96),\n",
       "   (0, 1, 4, IMPR_VB, 7, 96),\n",
       "   (0, 1, 4, RD, 7, 99),\n",
       "   (0, 1, 4, GLG, 7, 101),\n",
       "   (0, 1, 4, AYC, 7, 107),\n",
       "   (0, 1, 4, GLY, 7, 109),\n",
       "   (0, 1, 4, DLV, 7, 121),\n",
       "   (0, 1, 4, DPE, 7, 123),\n",
       "   (0, 1, 4, RX, 7, 133),\n",
       "   (0, 1, 4, BFY, 7, 135),\n",
       "   (0, 1, 4, GNM, 7, 138),\n",
       "   (0, 1, 4, BHA, 7, 141),\n",
       "   (0, 1, 4, BIC, 7, 144),\n",
       "   (0, 1, 4, DRA, 7, 148),\n",
       "   (0, 1, 4, DOM, 7, 151),\n",
       "   (0, 3, 4, GGR, 2, 0),\n",
       "   (0, 3, 4, CYA, 2, 0),\n",
       "   (0, 3, 4, CYJ, 2, 0),\n",
       "   (0, 3, 4, CWZ, 2, 0),\n",
       "   (0, 3, 4, FFI, 2, 0),\n",
       "   (0, 3, 4, CXU, 2, 0),\n",
       "   (0, 3, 4, GHJ, 2, 0),\n",
       "   (0, 3, 4, CXX, 2, 0),\n",
       "   (0, 3, 4, GGL, 2, 0),\n",
       "   (0, 3, 4, GHP, 2, 0),\n",
       "   (0, 3, 4, JJI, 2, 0),\n",
       "   (0, 3, 4, CXO, 2, 0),\n",
       "   (0, 3, 4, CXC, 2, 0),\n",
       "   (0, 3, 4, DXW, 2, 0),\n",
       "   (0, 3, 4, CYD, 2, 0),\n",
       "   (0, 3, 4, GGV, 2, 0),\n",
       "   (0, 3, 4, AOP, 2, 0),\n",
       "   (0, 3, 4, GTN, 2, 0),\n",
       "   (0, 3, 4, CYG, 2, 0),\n",
       "   (0, 3, 4, AOX, 2, 0),\n",
       "   (0, 3, 4, GGJ, 2, 0),\n",
       "   (0, 3, 4, DXW, 10, 0),\n",
       "   (0, 3, 4, GGV, 10, 0),\n",
       "   (0, 3, 4, AOP, 10, 0),\n",
       "   (0, 3, 4, CYG, 10, 0),\n",
       "   (0, 3, 4, AOX, 10, 0),\n",
       "   (0, 3, 4, CYD, 10, 0),\n",
       "   (0, 3, 4, GGJ, 10, 0),\n",
       "   (0, 3, 4, GTN, 10, 0),\n",
       "   (0, 3, 4, GGR, 10, 0),\n",
       "   (0, 3, 4, CYA, 10, 0),\n",
       "   (0, 3, 4, CYJ, 10, 0),\n",
       "   (0, 3, 4, CWZ, 10, 0),\n",
       "   (0, 3, 4, FFI, 10, 0),\n",
       "   (0, 3, 4, CXU, 10, 0),\n",
       "   (0, 3, 4, GGL, 10, 0),\n",
       "   (0, 3, 4, GHJ, 10, 0),\n",
       "   (0, 3, 4, GHP, 10, 0),\n",
       "   (0, 3, 4, JJI, 10, 0),\n",
       "   (0, 3, 4, CXO, 10, 0),\n",
       "   (0, 3, 4, CXC, 10, 0),\n",
       "   (0, 3, 4, CXX, 10, 0)]],\n",
       " ['',\n",
       "  'the',\n",
       "  [(1, 1, 2, ADV_RB, 1, 1),\n",
       "   (1, 1, 2, ADJ_AT, 1, 1),\n",
       "   (1, 1, 2, AVP_RB, 1, 1),\n",
       "   (1, 1, 2, the, 1, 1)],\n",
       "  [(1, 2, 3, NP_NNS, 1, 3),\n",
       "   (1, 2, 3, KCM, 1, 3),\n",
       "   (1, 2, 3, SIGMA, 1, 3),\n",
       "   (1, 2, 3, IQR, 1, 3),\n",
       "   (1, 2, 3, KJI, 1, 3),\n",
       "   (1, 2, 3, FWB, 2, 2),\n",
       "   (1, 2, 3, KRP, 2, 2),\n",
       "   (1, 2, 3, FSY, 2, 2),\n",
       "   (1, 2, 3, SIGMA, 2, 3),\n",
       "   (1, 2, 3, KJL, 2, 3),\n",
       "   (1, 2, 3, NP_NNS, 2, 3)],\n",
       "  [(1, 2, 4, SIGMA, 1, 84),\n",
       "   (1, 2, 4, NP_NNS, 1, 84),\n",
       "   (1, 2, 4, CSO, 2, 26),\n",
       "   (1, 2, 4, GFM, 2, 52),\n",
       "   (1, 2, 4, GCE, 2, 62),\n",
       "   (1, 2, 4, AJU, 2, 71),\n",
       "   (1, 2, 4, KRP, 2, 78),\n",
       "   (1, 2, 4, FWB, 2, 78),\n",
       "   (1, 2, 4, FSY, 2, 78),\n",
       "   (1, 2, 4, NP_NNS, 2, 85),\n",
       "   (1, 2, 4, SIGMA, 2, 85),\n",
       "   (1, 3, 4, JJD, 0, 0),\n",
       "   (1, 3, 4, AJV, 0, 0),\n",
       "   (1, 3, 4, GBB, 0, 0),\n",
       "   (1, 3, 4, GRP, 0, 0),\n",
       "   (1, 3, 4, GCR, 0, 0),\n",
       "   (1, 3, 4, UQ, 0, 0),\n",
       "   (1, 3, 4, GJZ, 0, 0),\n",
       "   (1, 3, 4, GIJ, 0, 0),\n",
       "   (1, 3, 4, HFD, 0, 0),\n",
       "   (1, 3, 4, DLW, 0, 0),\n",
       "   (1, 3, 4, BFZ, 0, 0),\n",
       "   (1, 3, 4, JJP, 0, 0),\n",
       "   (1, 3, 4, CZT, 0, 0),\n",
       "   (1, 3, 4, CRF, 0, 0),\n",
       "   (1, 3, 4, SI, 0, 0),\n",
       "   (1, 3, 4, AXJ, 0, 0),\n",
       "   (1, 3, 4, GDR, 0, 0),\n",
       "   (1, 3, 4, AQP, 0, 0),\n",
       "   (1, 3, 4, GBN, 0, 0),\n",
       "   (1, 3, 4, GWH, 0, 0),\n",
       "   (1, 3, 4, BID, 0, 0),\n",
       "   (1, 3, 4, GAF, 0, 0),\n",
       "   (1, 3, 4, DDI, 0, 0),\n",
       "   (1, 3, 4, GFN, 0, 0),\n",
       "   (1, 3, 4, GXB, 0, 0),\n",
       "   (1, 3, 4, DBA, 0, 0),\n",
       "   (1, 3, 4, GNN, 0, 0),\n",
       "   (1, 3, 4, GFD, 0, 0),\n",
       "   (1, 3, 4, GAP, 0, 0),\n",
       "   (1, 3, 4, BHB, 0, 0),\n",
       "   (1, 3, 4, JIP, 0, 0),\n",
       "   (1, 3, 4, GYR, 0, 0),\n",
       "   (1, 3, 4, GXX, 0, 0),\n",
       "   (1, 3, 4, GCF, 0, 0),\n",
       "   (1, 3, 4, GSH, 0, 0),\n",
       "   (1, 3, 4, BJJ, 0, 0),\n",
       "   (1, 3, 4, BQL, 0, 0),\n",
       "   (1, 3, 4, JIR, 0, 0),\n",
       "   (1, 3, 4, DAF, 0, 0),\n",
       "   (1, 3, 4, RY, 0, 0),\n",
       "   (1, 3, 4, GIT, 0, 0),\n",
       "   (1, 3, 4, CSP, 0, 0),\n",
       "   (1, 3, 4, EEU, 0, 0),\n",
       "   (1, 3, 4, DRB, 0, 0),\n",
       "   (1, 3, 4, DOE, 0, 0),\n",
       "   (1, 3, 4, GOB, 0, 0),\n",
       "   (1, 3, 4, EEI, 0, 0),\n",
       "   (1, 3, 4, BRR, 0, 0),\n",
       "   (1, 3, 4, DPR, 0, 0),\n",
       "   (1, 3, 4, JIB, 0, 0),\n",
       "   (1, 3, 4, BOT, 0, 0),\n",
       "   (1, 3, 4, DPF, 0, 0),\n",
       "   (1, 3, 4, DON, 0, 0),\n",
       "   (1, 3, 4, HFB, 0, 0),\n",
       "   (1, 3, 4, GBV, 0, 0),\n",
       "   (1, 3, 4, GSN, 0, 0),\n",
       "   (1, 3, 4, GUJ, 0, 0),\n",
       "   (1, 3, 4, GIN, 0, 0),\n",
       "   (1, 3, 4, DAL, 0, 0),\n",
       "   (1, 3, 4, DZJ, 0, 0),\n",
       "   (1, 3, 4, RE, 0, 0),\n",
       "   (1, 3, 4, GLH, 0, 0),\n",
       "   (1, 3, 4, BQH, 0, 0),\n",
       "   (1, 3, 4, JJL, 0, 0),\n",
       "   (1, 3, 4, DZA, 0, 0),\n",
       "   (1, 3, 4, JSB, 0, 0),\n",
       "   (1, 3, 4, GLZ, 0, 0),\n",
       "   (1, 3, 4, JKB, 0, 0),\n",
       "   (1, 3, 4, AYD, 0, 0),\n",
       "   (1, 3, 4, CZZ, 0, 0),\n",
       "   (1, 3, 4, GJF, 0, 0),\n",
       "   (1, 3, 4, DOE, 10, 0),\n",
       "   (1, 3, 4, GYR, 10, 0),\n",
       "   (1, 3, 4, GCF, 10, 0),\n",
       "   (1, 3, 4, GOB, 10, 0),\n",
       "   (1, 3, 4, EEI, 10, 0),\n",
       "   (1, 3, 4, GSN, 10, 0),\n",
       "   (1, 3, 4, BRR, 10, 0),\n",
       "   (1, 3, 4, JIB, 10, 0),\n",
       "   (1, 3, 4, BOT, 10, 0),\n",
       "   (1, 3, 4, DPR, 10, 0),\n",
       "   (1, 3, 4, GIN, 10, 0),\n",
       "   (1, 3, 4, GBV, 10, 0),\n",
       "   (1, 3, 4, GUJ, 10, 0),\n",
       "   (1, 3, 4, CZZ, 10, 0),\n",
       "   (1, 3, 4, JKB, 10, 0),\n",
       "   (1, 3, 4, DAL, 10, 0),\n",
       "   (1, 3, 4, DZJ, 10, 0),\n",
       "   (1, 3, 4, RE, 10, 0),\n",
       "   (1, 3, 4, JJD, 10, 0),\n",
       "   (1, 3, 4, GLH, 10, 0),\n",
       "   (1, 3, 4, GBB, 10, 0),\n",
       "   (1, 3, 4, BQH, 10, 0),\n",
       "   (1, 3, 4, HFD, 10, 0),\n",
       "   (1, 3, 4, JSB, 10, 0),\n",
       "   (1, 3, 4, UQ, 10, 0),\n",
       "   (1, 3, 4, AYD, 10, 0),\n",
       "   (1, 3, 4, GJF, 10, 0),\n",
       "   (1, 3, 4, GLZ, 10, 0),\n",
       "   (1, 3, 4, AJV, 10, 0),\n",
       "   (1, 3, 4, CZT, 10, 0),\n",
       "   (1, 3, 4, JJL, 10, 0),\n",
       "   (1, 3, 4, DZA, 10, 0),\n",
       "   (1, 3, 4, GCR, 10, 0),\n",
       "   (1, 3, 4, GAF, 10, 0),\n",
       "   (1, 3, 4, GRP, 10, 0),\n",
       "   (1, 3, 4, GJZ, 10, 0),\n",
       "   (1, 3, 4, GIJ, 10, 0),\n",
       "   (1, 3, 4, GXB, 10, 0),\n",
       "   (1, 3, 4, AXJ, 10, 0),\n",
       "   (1, 3, 4, DLW, 10, 0),\n",
       "   (1, 3, 4, DBA, 10, 0),\n",
       "   (1, 3, 4, DPF, 10, 0),\n",
       "   (1, 3, 4, CSP, 10, 0),\n",
       "   (1, 3, 4, JJP, 10, 0),\n",
       "   (1, 3, 4, CRF, 10, 0),\n",
       "   (1, 3, 4, SI, 10, 0),\n",
       "   (1, 3, 4, GBN, 10, 0),\n",
       "   (1, 3, 4, GWH, 10, 0),\n",
       "   (1, 3, 4, JIR, 10, 0),\n",
       "   (1, 3, 4, GXX, 10, 0),\n",
       "   (1, 3, 4, GSH, 10, 0),\n",
       "   (1, 3, 4, RY, 10, 0),\n",
       "   (1, 3, 4, GFN, 10, 0),\n",
       "   (1, 3, 4, BFZ, 10, 0),\n",
       "   (1, 3, 4, BJJ, 10, 0),\n",
       "   (1, 3, 4, BQL, 10, 0),\n",
       "   (1, 3, 4, GNN, 10, 0),\n",
       "   (1, 3, 4, GFD, 10, 0),\n",
       "   (1, 3, 4, GAP, 10, 0),\n",
       "   (1, 3, 4, BHB, 10, 0),\n",
       "   (1, 3, 4, DDI, 10, 0),\n",
       "   (1, 3, 4, AQP, 10, 0),\n",
       "   (1, 3, 4, BID, 10, 0),\n",
       "   (1, 3, 4, JIP, 10, 0),\n",
       "   (1, 3, 4, GDR, 10, 0),\n",
       "   (1, 3, 4, DAF, 10, 0),\n",
       "   (1, 3, 4, DRB, 10, 0),\n",
       "   (1, 3, 4, GIT, 10, 0),\n",
       "   (1, 3, 4, EEU, 10, 0),\n",
       "   (1, 3, 4, DON, 10, 0),\n",
       "   (1, 3, 4, HFB, 10, 0)]],\n",
       " ['',\n",
       "  '',\n",
       "  'flights',\n",
       "  [(2, 2, 3, AVPNP_NNS, 2, 2),\n",
       "   (2, 2, 3, SIGMA, 2, 2),\n",
       "   (2, 2, 3, NP_NNS, 2, 2),\n",
       "   (2, 2, 3, NOUN_NNS, 2, 2),\n",
       "   (2, 2, 3, pt207, 2, 2),\n",
       "   (2, 2, 3, VP_VBZ, 2, 2),\n",
       "   (2, 2, 3, VERB_VBZ, 2, 2)],\n",
       "  [(2, 3, 4, DXT, 0, 0),\n",
       "   (2, 3, 4, ES, 0, 0),\n",
       "   (2, 3, 4, CTK, 0, 0),\n",
       "   (2, 3, 4, DPF, 2, 0),\n",
       "   (2, 3, 4, RE, 2, 0),\n",
       "   (2, 3, 4, GIJ, 2, 0),\n",
       "   (2, 3, 4, JIB, 2, 0),\n",
       "   (2, 3, 4, JJD, 2, 0),\n",
       "   (2, 3, 4, BRR, 2, 0),\n",
       "   (2, 3, 4, BQH, 2, 0),\n",
       "   (2, 3, 4, GIT, 2, 0),\n",
       "   (2, 3, 4, GLZ, 2, 0),\n",
       "   (2, 3, 4, UQ, 2, 0),\n",
       "   (2, 3, 4, JKB, 2, 0),\n",
       "   (2, 3, 4, CZZ, 2, 0),\n",
       "   (2, 3, 4, DZJ, 2, 0),\n",
       "   (2, 3, 4, JSB, 2, 0),\n",
       "   (2, 3, 4, GUJ, 2, 0),\n",
       "   (2, 3, 4, GBB, 2, 0),\n",
       "   (2, 3, 4, CZT, 2, 0),\n",
       "   (2, 3, 4, DZA, 2, 0),\n",
       "   (2, 3, 4, GCR, 2, 0),\n",
       "   (2, 3, 4, GRP, 2, 0),\n",
       "   (2, 3, 4, GXB, 2, 0),\n",
       "   (2, 3, 4, DOE, 2, 0),\n",
       "   (2, 3, 4, AXJ, 2, 0),\n",
       "   (2, 3, 4, CSP, 2, 0),\n",
       "   (2, 3, 4, JJP, 2, 0),\n",
       "   (2, 3, 4, SI, 2, 0),\n",
       "   (2, 3, 4, AYD, 2, 0),\n",
       "   (2, 3, 4, GBN, 2, 0),\n",
       "   (2, 3, 4, GWH, 2, 0),\n",
       "   (2, 3, 4, GAF, 2, 0),\n",
       "   (2, 3, 4, GSH, 2, 0),\n",
       "   (2, 3, 4, RY, 2, 0),\n",
       "   (2, 3, 4, GLH, 2, 0),\n",
       "   (2, 3, 4, BFZ, 2, 0),\n",
       "   (2, 3, 4, BOT, 2, 0),\n",
       "   (2, 3, 4, BQL, 2, 0),\n",
       "   (2, 3, 4, GNN, 2, 0),\n",
       "   (2, 3, 4, GFD, 2, 0),\n",
       "   (2, 3, 4, GAP, 2, 0),\n",
       "   (2, 3, 4, BHB, 2, 0),\n",
       "   (2, 3, 4, DDI, 2, 0),\n",
       "   (2, 3, 4, DBA, 2, 0),\n",
       "   (2, 3, 4, AQP, 2, 0),\n",
       "   (2, 3, 4, BID, 2, 0),\n",
       "   (2, 3, 4, JIP, 2, 0),\n",
       "   (2, 3, 4, HFD, 2, 0),\n",
       "   (2, 3, 4, GDR, 2, 0),\n",
       "   (2, 3, 4, GXX, 2, 0),\n",
       "   (2, 3, 4, DAF, 2, 0),\n",
       "   (2, 3, 4, GFN, 2, 0),\n",
       "   (2, 3, 4, GJZ, 2, 0),\n",
       "   (2, 3, 4, JIR, 2, 0),\n",
       "   (2, 3, 4, DRB, 2, 0),\n",
       "   (2, 3, 4, GJF, 2, 0),\n",
       "   (2, 3, 4, CRF, 2, 0),\n",
       "   (2, 3, 4, EEU, 2, 0),\n",
       "   (2, 3, 4, HFB, 2, 0),\n",
       "   (2, 3, 4, JJL, 2, 0),\n",
       "   (2, 3, 4, GYR, 2, 0),\n",
       "   (2, 3, 4, GCF, 2, 0),\n",
       "   (2, 3, 4, GOB, 2, 0),\n",
       "   (2, 3, 4, GSN, 2, 0),\n",
       "   (2, 3, 4, DPR, 2, 0),\n",
       "   (2, 3, 4, DLW, 2, 0),\n",
       "   (2, 3, 4, DON, 2, 0),\n",
       "   (2, 3, 4, GBV, 2, 0),\n",
       "   (2, 3, 4, EEI, 2, 0),\n",
       "   (2, 3, 4, BJJ, 2, 0),\n",
       "   (2, 3, 4, AJV, 2, 0),\n",
       "   (2, 3, 4, GIN, 2, 0),\n",
       "   (2, 3, 4, DAL, 2, 0),\n",
       "   (2, 3, 4, KCD, 3, 0),\n",
       "   (2, 3, 4, IQ, 3, 0),\n",
       "   (2, 3, 4, KDH, 3, 0),\n",
       "   (2, 3, 4, SIGMA, 3, 0),\n",
       "   (2, 3, 4, NP_NNS, 3, 0),\n",
       "   (2, 3, 4, KAN, 3, 0),\n",
       "   (2, 3, 4, KBW, 3, 0),\n",
       "   (2, 3, 4, EZX, 3, 0),\n",
       "   (2, 3, 4, HYJ, 3, 0),\n",
       "   (2, 3, 4, HYH, 3, 0),\n",
       "   (2, 3, 4, JZK, 3, 0),\n",
       "   (2, 3, 4, KAT, 3, 0),\n",
       "   (2, 3, 4, HVH, 3, 0),\n",
       "   (2, 3, 4, KAL, 3, 0),\n",
       "   (2, 3, 4, KDT, 3, 0),\n",
       "   (2, 3, 4, JZY, 3, 0),\n",
       "   (2, 3, 4, KCJ, 3, 0),\n",
       "   (2, 3, 4, CWW, 5, 0),\n",
       "   (2, 3, 4, CXR, 5, 0),\n",
       "   (2, 3, 4, GHT, 5, 0),\n",
       "   (2, 3, 4, CXI, 5, 0),\n",
       "   (2, 3, 4, GRB, 6, 0),\n",
       "   (2, 3, 4, DECL_VBZ, 6, 0),\n",
       "   (2, 3, 4, SIGMA, 6, 0)]],\n",
       " ['', '', '', '.', [(3, 3, 4, pt_char_per, 3, 3)]]]"
      ]
     },
     "execution_count": 157,
     "metadata": {},
     "output_type": "execute_result"
    }
   ],
   "source": [
    "cky_matrix"
   ]
  },
  {
   "cell_type": "code",
   "execution_count": 158,
   "metadata": {},
   "outputs": [
    {
     "data": {
      "text/plain": [
       "[(0, 1, 4, SIGMA, 7, 78), (0, 1, 4, SIGMA, 7, 96)]"
      ]
     },
     "execution_count": 158,
     "metadata": {},
     "output_type": "execute_result"
    }
   ],
   "source": [
    "terminal_list = [item for item in cky_matrix[0][sentence_length] if item[3] == nltk.grammar.Nonterminal(\"SIGMA\")]\n",
    "terminal_list"
   ]
  },
  {
   "cell_type": "code",
   "execution_count": 213,
   "metadata": {},
   "outputs": [
    {
     "name": "stdout",
     "output_type": "stream",
     "text": [
      "(1, 1, 2, ADJ_AT, 1, 1)\n",
      "(2, 2, 3, NOUN_NNS, 2, 2)\n"
     ]
    }
   ],
   "source": [
    "print(cky_matrix[1][2][1])\n",
    "print(cky_matrix[2][3][3])\n",
    "# print(cky_matrix[1][2][1])\n",
    "# print(cky_matrix[2][3][3])"
   ]
  },
  {
   "cell_type": "code",
   "execution_count": 184,
   "metadata": {},
   "outputs": [],
   "source": [
    "def get_children(matrix, element):\n",
    "    a,b,c,indx,indy = element[0],element[1],element[2],element[-2],element[-1]\n",
    "\n",
    "    next_x = matrix[a][b][indx]\n",
    "    next_y = matrix[b][c][indy]\n",
    "    \n",
    "    return next_x, next_y"
   ]
  },
  {
   "cell_type": "code",
   "execution_count": 219,
   "metadata": {},
   "outputs": [
    {
     "name": "stdout",
     "output_type": "stream",
     "text": [
      "(0, 1, 4, SIGMA, 7, 78)\n",
      "getting children for (0, 1, 4, SIGMA, 7, 78)\n",
      "[(0, 1, 4, SIGMA, 7, 78), (0, 0, 1, VERB_VB, 0, 0), (1, 3, 4, JKB, 0, 0)]\n",
      "[(0, 4)]\n",
      "(0, 0, 1, VERB_VB, 0, 0)\n",
      "oof\n",
      "(1, 3, 4, JKB, 0, 0)\n",
      "getting children for (1, 3, 4, JKB, 0, 0)\n",
      "[(0, 1, 4, SIGMA, 7, 78), (0, 0, 1, VERB_VB, 0, 0), (1, 3, 4, JKB, 0, 0), (1, 2, 3, NP_NNS, 1, 3), (3, 3, 4, pt_char_per, 3, 3)]\n",
      "[(0, 4), (0, 1), (1, 4)]\n",
      "(1, 2, 3, NP_NNS, 1, 3)\n",
      "getting children for (1, 2, 3, NP_NNS, 1, 3)\n",
      "[(0, 1, 4, SIGMA, 7, 78), (0, 0, 1, VERB_VB, 0, 0), (1, 3, 4, JKB, 0, 0), (1, 2, 3, NP_NNS, 1, 3), (3, 3, 4, pt_char_per, 3, 3), (1, 1, 2, ADJ_AT, 1, 1), (2, 2, 3, NOUN_NNS, 2, 2)]\n",
      "[(0, 4), (0, 1), (1, 4), (1, 3)]\n",
      "(3, 3, 4, pt_char_per, 3, 3)\n",
      "oof\n",
      "(1, 1, 2, ADJ_AT, 1, 1)\n",
      "oof\n",
      "(2, 2, 3, NOUN_NNS, 2, 2)\n",
      "oof\n",
      "Checking\n",
      "False\n",
      "(0, 1, 4, SIGMA, 7, 96)\n",
      "getting children for (0, 1, 4, SIGMA, 7, 96)\n",
      "[(0, 1, 4, SIGMA, 7, 96), (0, 0, 1, VERB_VB, 0, 0), (1, 3, 4, JKB, 10, 0)]\n",
      "[(0, 4)]\n",
      "(0, 0, 1, VERB_VB, 0, 0)\n",
      "oof\n",
      "(1, 3, 4, JKB, 10, 0)\n",
      "getting children for (1, 3, 4, JKB, 10, 0)\n",
      "[(0, 1, 4, SIGMA, 7, 96), (0, 0, 1, VERB_VB, 0, 0), (1, 3, 4, JKB, 10, 0), (1, 2, 3, NP_NNS, 2, 3), (3, 3, 4, pt_char_per, 3, 3)]\n",
      "[(0, 4), (0, 1), (1, 4)]\n",
      "(1, 2, 3, NP_NNS, 2, 3)\n",
      "getting children for (1, 2, 3, NP_NNS, 2, 3)\n",
      "[(0, 1, 4, SIGMA, 7, 96), (0, 0, 1, VERB_VB, 0, 0), (1, 3, 4, JKB, 10, 0), (1, 2, 3, NP_NNS, 2, 3), (3, 3, 4, pt_char_per, 3, 3), (1, 1, 2, AVP_RB, 1, 1), (2, 2, 3, NOUN_NNS, 2, 2)]\n",
      "[(0, 4), (0, 1), (1, 4), (1, 3)]\n",
      "(3, 3, 4, pt_char_per, 3, 3)\n",
      "oof\n",
      "(1, 1, 2, AVP_RB, 1, 1)\n",
      "oof\n",
      "(2, 2, 3, NOUN_NNS, 2, 2)\n",
      "oof\n",
      "Checking\n",
      "False\n"
     ]
    }
   ],
   "source": [
    "end_list = set([(i,i+1) for i in range(sentence_length)])\n",
    "word_list = set([(i,i) for i in range(sentence_length)])\n",
    "all_trees = []\n",
    "\n",
    "for element in terminal_list:\n",
    "    flag = True\n",
    "    roots = [element]\n",
    "    checked_list = []\n",
    "    # limit = 100\n",
    "    # i = 0\n",
    "    \n",
    "    while flag:\n",
    "        # i+=1\n",
    "        # if i > limit:\n",
    "        #     break\n",
    "        for root in roots:\n",
    "            print(root)\n",
    "            if type(root) != str:\n",
    "                if root[:2] in word_list:\n",
    "                    print(\"oof\")\n",
    "                    checked_list.append(root[1:3])\n",
    "                    continue\n",
    "                elif (root[0],root[2]) in checked_list:\n",
    "                    print(\"oof2\")\n",
    "                    continue\n",
    "                else:\n",
    "                    print(f\"getting children for {root}\")\n",
    "                    next_x, next_y = get_children(cky_matrix, root)\n",
    "                    checked_list.append((root[0],root[2]))\n",
    "                    roots.append(next_x)\n",
    "                    roots.append(next_y)\n",
    "                    print(roots)\n",
    "                    print(checked_list)\n",
    "                \n",
    "        assert type(roots) == list\n",
    "            \n",
    "        final_list = [(root[0],root[2]) for root in roots]\n",
    "        print(\"Checking\")\n",
    "        flag = not(set(end_list) == set([value for value in final_list if value in end_list]))\n",
    "        print(flag)\n",
    "        \n",
    "    all_trees.append(roots)"
   ]
  },
  {
   "cell_type": "code",
   "execution_count": 222,
   "metadata": {},
   "outputs": [
    {
     "data": {
      "text/plain": [
       "[(0, 1, 4, SIGMA, 7, 78),\n",
       " (0, 0, 1, VERB_VB, 0, 0),\n",
       " (1, 3, 4, JKB, 0, 0),\n",
       " (1, 2, 3, NP_NNS, 1, 3),\n",
       " (3, 3, 4, pt_char_per, 3, 3),\n",
       " (1, 1, 2, ADJ_AT, 1, 1),\n",
       " (2, 2, 3, NOUN_NNS, 2, 2)]"
      ]
     },
     "execution_count": 222,
     "metadata": {},
     "output_type": "execute_result"
    }
   ],
   "source": [
    "all_trees[0]"
   ]
  },
  {
   "cell_type": "code",
   "execution_count": 197,
   "metadata": {},
   "outputs": [
    {
     "data": {
      "text/plain": [
       "((1, 2, 3, NP_NNS, 1, 3), (3, 3, 4, pt_char_per, 3, 3))"
      ]
     },
     "execution_count": 197,
     "metadata": {},
     "output_type": "execute_result"
    }
   ],
   "source": [
    "get_children(cky_matrix,(1, 3, 4, nltk.grammar.Nonterminal(\"JKB\"), 0, 0))"
   ]
  },
  {
   "cell_type": "code",
   "execution_count": 192,
   "metadata": {},
   "outputs": [],
   "source": [
    "assert type(roots) == set"
   ]
  },
  {
   "cell_type": "code",
   "execution_count": 149,
   "metadata": {},
   "outputs": [
    {
     "data": {
      "text/plain": [
       "True"
      ]
     },
     "execution_count": 149,
     "metadata": {},
     "output_type": "execute_result"
    }
   ],
   "source": [
    "set(end_list) == set([value for value in final_list if value in end_list])"
   ]
  },
  {
   "cell_type": "code",
   "execution_count": 180,
   "metadata": {},
   "outputs": [
    {
     "data": {
      "text/plain": [
       "(1, 2)"
      ]
     },
     "execution_count": 180,
     "metadata": {},
     "output_type": "execute_result"
    }
   ],
   "source": [
    "cky_matrix[1][2][0][1:3]"
   ]
  },
  {
   "cell_type": "code",
   "execution_count": 87,
   "metadata": {},
   "outputs": [
    {
     "data": {
      "text/plain": [
       "[(0, 1, 4, SIGMA, 7, 64), (0, 0, 1, VERB_VB, 0, 0), (1, 3, 4, JKB, 7, 0)]"
      ]
     },
     "execution_count": 87,
     "metadata": {},
     "output_type": "execute_result"
    }
   ],
   "source": [
    "roots"
   ]
  },
  {
   "cell_type": "code",
   "execution_count": 96,
   "metadata": {},
   "outputs": [
    {
     "name": "stdout",
     "output_type": "stream",
     "text": [
      "(0, 0, 1, VERB_VB, 0, 0)\n",
      "(1, 3, 4, JKB, 7, 0)\n",
      "(1, 2, 3, KRP, 7, 0)\n",
      "(3, 3, 4, pt_char_per, 3, 3)\n"
     ]
    }
   ],
   "source": [
    "print(cky_matrix[0][1][7])\n",
    "print(cky_matrix[1][4][64])\n",
    "print(cky_matrix[1][3][7])\n",
    "print(cky_matrix[3][4][0])"
   ]
  },
  {
   "cell_type": "code",
   "execution_count": null,
   "metadata": {},
   "outputs": [],
   "source": []
  },
  {
   "cell_type": "code",
   "execution_count": 107,
   "metadata": {},
   "outputs": [
    {
     "data": {
      "text/plain": [
       "True"
      ]
     },
     "execution_count": 107,
     "metadata": {},
     "output_type": "execute_result"
    }
   ],
   "source": [
    "test_list = [(0,0),(0,9),(1,1),(2,3),(2,2),(1,3)]\n",
    "end_list = [(0,0),(1,1),(2,2),(3,3)]\n",
    "val = not(end_list == [value for value in test_list if value in end_list])\n",
    "val"
   ]
  },
  {
   "cell_type": "code",
   "execution_count": 104,
   "metadata": {},
   "outputs": [
    {
     "data": {
      "text/plain": [
       "{1, 2, 3}"
      ]
     },
     "execution_count": 104,
     "metadata": {},
     "output_type": "execute_result"
    }
   ],
   "source": [
    "test_set = set([1,2,3])\n",
    "test_set.add(3)\n",
    "test_set"
   ]
  },
  {
   "cell_type": "code",
   "execution_count": 179,
   "metadata": {},
   "outputs": [
    {
     "data": {
      "text/plain": [
       "[(0, 1), (1, 2), (2, 3), (3, 4)]"
      ]
     },
     "execution_count": 179,
     "metadata": {},
     "output_type": "execute_result"
    }
   ],
   "source": [
    "end_list = []\n",
    "for i in range(sentence_length):\n",
    "    end_list.append((i,i+1))\n",
    "    \n",
    "end_list"
   ]
  },
  {
   "cell_type": "code",
   "execution_count": 90,
   "metadata": {},
   "outputs": [
    {
     "data": {
      "text/plain": [
       "True"
      ]
     },
     "execution_count": 90,
     "metadata": {},
     "output_type": "execute_result"
    }
   ],
   "source": [
    "next_x[-2:] == (0,0)"
   ]
  },
  {
   "cell_type": "code",
   "execution_count": 91,
   "metadata": {},
   "outputs": [
    {
     "data": {
      "text/plain": [
       "True"
      ]
     },
     "execution_count": 91,
     "metadata": {},
     "output_type": "execute_result"
    }
   ],
   "source": [
    "True | False"
   ]
  },
  {
   "cell_type": "code",
   "execution_count": null,
   "metadata": {},
   "outputs": [],
   "source": []
  },
  {
   "cell_type": "code",
   "execution_count": null,
   "metadata": {},
   "outputs": [],
   "source": []
  }
 ],
 "metadata": {
  "kernelspec": {
   "display_name": "Python 3",
   "language": "python",
   "name": "python3"
  },
  "language_info": {
   "codemirror_mode": {
    "name": "ipython",
    "version": 3
   },
   "file_extension": ".py",
   "mimetype": "text/x-python",
   "name": "python",
   "nbconvert_exporter": "python",
   "pygments_lexer": "ipython3",
   "version": "3.9.5"
  }
 },
 "nbformat": 4,
 "nbformat_minor": 2
}
